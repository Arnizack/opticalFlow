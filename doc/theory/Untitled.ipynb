{
 "cells": [
  {
   "cell_type": "markdown",
   "metadata": {},
   "source": [
    "## Relibility Map Defintion\n",
    "\n",
    "$e(x,y,u,v) = \\left|| T(x,y)-I(x+u,y+v) \\right||^2$\n",
    "\n",
    "$w_r(x,y) = \\underset{(u,v)\\in \\Omega}{\\text{mean }}  e(x,y,u,v) - \\underset{(u,v)\\in \\Omega}{\\text{min}} e(x,y,u,v) $\n",
    "\n",
    "\n"
   ]
  }
 ],
 "metadata": {
  "kernelspec": {
   "display_name": "Python 3",
   "language": "python",
   "name": "python3"
  },
  "language_info": {
   "codemirror_mode": {
    "name": "ipython",
    "version": 3
   },
   "file_extension": ".py",
   "mimetype": "text/x-python",
   "name": "python",
   "nbconvert_exporter": "python",
   "pygments_lexer": "ipython3",
   "version": "3.5.3"
  }
 },
 "nbformat": 4,
 "nbformat_minor": 4
}
