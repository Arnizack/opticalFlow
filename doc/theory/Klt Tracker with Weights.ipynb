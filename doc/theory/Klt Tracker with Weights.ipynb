{
 "cells": [
  {
   "cell_type": "markdown",
   "metadata": {},
   "source": [
    "# KLT Tracker mit Weights"
   ]
  },
  {
   "cell_type": "markdown",
   "metadata": {},
   "source": [
    "## Theorie"
   ]
  },
  {
   "cell_type": "markdown",
   "metadata": {},
   "source": [
    "### Variablen"
   ]
  },
  {
   "cell_type": "markdown",
   "metadata": {},
   "source": [
    "- $T$ für Template, Das Tamplate versucht der Tracker zu Matchen\n",
    "- $I$ für Image, ist das Bild in dem das Template T gesucht wird\n",
    "- $N_0$ ist die Menge aller Pixel im Tamplate\n",
    "- $x \\in N_0$ ist die Zählvariable, die die Pixel durchläuft \n",
    "- $p$ ist die aktuelle Verschiebung von der Ursprünglichen position des Templates\n",
    "- $\\Delta p$ ist die Differenz zwischen dem nächsten p und dem aktuellem p\n",
    "- $c$ für color, ist die Laufvariable, die die Frabkanäle druchläuft"
   ]
  },
  {
   "cell_type": "markdown",
   "metadata": {},
   "source": [
    "### Ziel:"
   ]
  },
  {
   "cell_type": "markdown",
   "metadata": {},
   "source": [
    "Minimierung der folgenden Funktion: $E$\n",
    "\n",
    "\\begin{equation}\n",
    "E(\\Delta p)=\\sum_{x} w_c w_d |I(x+p+\\Delta p)-T(x)|^2\n",
    "\\end{equation}"
   ]
  },
  {
   "cell_type": "markdown",
   "metadata": {},
   "source": [
    "wobei: \n",
    "\\begin{equation}\n",
    "w_d = exp \\left( -\\frac{|x_0-x|^2}{2\\delta_d} \\right)\n",
    "\\end{equation}\n",
    "\\begin{equation}\n",
    "w_c(x) = exp \\left( -\\frac{|T(x_0)-T(x)|^2}{2\\delta_c} \\right) \n",
    "\\end{equation}\n"
   ]
  },
  {
   "cell_type": "markdown",
   "metadata": {},
   "source": [
    "### Umstellen nach $\\Delta p$"
   ]
  },
  {
   "cell_type": "markdown",
   "metadata": {},
   "source": [
    "\n",
    "\\begin{equation}\n",
    "E(\\Delta p)=\\sum_{x}w_c w_d \\sum_{c}  |I_c(x+p+\\Delta p)-T_c(x)|^2\n",
    "\\end{equation}\n",
    "\\begin{equation}\n",
    "    \\approx \\sum_{x}w_c w_d \\sum_{c} |I_c(x+p)+\\nabla I_c(x+p)^T \\Delta p -T_c(x)|^2\n",
    "\\end{equation}\n",
    "\n",
    "Abgeleitet:\n",
    "\\begin{equation}\n",
    "\\sum_{x}w_c w_d \\sum_{c} \\nabla I_c(x+p) \\left(I_c(x+p)+\\nabla I_c(x+p)^T \\Delta p -T_c(x)\\right) = 0\n",
    "\\end{equation}\n",
    "\n",
    "\\begin{equation}\n",
    "\\implies -\\sum_{x}w_c w_d \\sum_{c} \\nabla I_c(x+p) \\left(I_c(x+p)-T_c(x) \\right) = \\sum_{x}w_c w_d \\sum_{c} \\nabla I_c(x+p)\\nabla I_c(x+p)^T \\Delta p \n",
    "\\end{equation}\n",
    "\n",
    "Definiere:\n",
    "\n",
    "\\begin{equation}\n",
    "H =  \\sum_{x}w_c w_d \\sum_{c} \\nabla I_c(x+p) \\nabla I_c(x+p)^T\n",
    "= \\sum_{c} \\sum_{x}w_c w_d  \\nabla I_c(x+p) \\nabla I_c(x+p)^T\n",
    "\\end{equation}\n",
    "\n",
    "\n",
    "\\begin{equation}\n",
    "Z = \\sum_{c} \\sum_{x}w_c w_d  \\nabla I_c(x+p) \\left(I_c(x+p)-T_c(x) \\right)\n",
    "\\end{equation}\n",
    "\n",
    "Es folgt:\n",
    "\n",
    "\\begin{equation}\n",
    "\\Delta p = -H^{-1} \\sum_{c} \\sum_{x}w_c w_d  \\nabla I_c(x+p) \\left(I_c(x+p)-T_c(x) \\right) = -H^{-1}Z\n",
    "\\end{equation}\n",
    "\n",
    "Man kann H und Z gleichzeitig berechnen:\n",
    "\\begin{equation}\n",
    "\\begin{pmatrix} Z \\\\ H \\end{pmatrix} \n",
    "= \\sum_{c} \\sum_{x}w_c w_d \\nabla I_c(x+p)\n",
    "\\begin{pmatrix}\n",
    " \\left(I_c(x+p)-T_c(x) \\right) \\\\ \n",
    " \\nabla I_c(x+p)^T \n",
    "\\end{pmatrix}\n",
    "= \\sum_{c} \\sum_{x}w_c w_d \n",
    "\\begin{pmatrix}\n",
    " \\nabla I_c(x+p) \\left(I_c(x+p)-T_c(x) \\right) \\\\ \n",
    " \\nabla I_c(x+p) \\nabla I_c(x+p)^T \n",
    "\\end{pmatrix}\n",
    "\\end{equation}\n",
    "\n"
   ]
  },
  {
   "cell_type": "markdown",
   "metadata": {},
   "source": [
    "# Algorithmus"
   ]
  },
  {
   "cell_type": "markdown",
   "metadata": {},
   "source": [
    "Input: $N_0$, $T$, $I$, $\\triangledown T$, $\\epsilon$, $\\delta_c$, $\\delta_d$\n",
    "\n",
    "Output: $p$\n",
    "\n",
    "Legen $w_c w_d$ zum Speichern an\n",
    "\n",
    "\n",
    "\n",
    "1. $p \\gets \\begin{bmatrix}\n",
    "           0 \\\\\n",
    "           0 \n",
    "         \\end{bmatrix}$\n",
    "         \n",
    "2.  $\\Delta p \\gets \\begin{bmatrix}\n",
    "           \\epsilon \\\\\n",
    "           \\epsilon\n",
    "         \\end{bmatrix}$\n",
    "\n",
    "3. $T_{c,x}$ bekommen\n",
    "\n",
    "4. Berechne:\n",
    "$\n",
    "w_c w_d =  exp \\left( -\\frac{|x_0-x|^2}{2\\delta_d } -\\frac{|T(x_0)-T(x)|^2}{2\\delta_c}\\right)\n",
    "$\n",
    "\n",
    "5. Solange $|\\Delta p|>\\epsilon$\n",
    "    1. $H \\gets \\begin{bmatrix}\n",
    "           0 & 0\\\\\n",
    "           0 & 0\n",
    "         \\end{bmatrix}$ \n",
    "\n",
    "    2. $ Z \\gets \\begin{bmatrix}\n",
    "           0 \\\\\n",
    "           0 \n",
    "         \\end{bmatrix}$\n",
    "    3. $\\tilde x = x+p$\n",
    "\n",
    "    4. Iteriere über c:\n",
    "\n",
    "        1. Bekomme $\\nabla I_c(\\tilde x)$\n",
    "\n",
    "        2. Berechne: $e_c = \\left(I_c(\\tilde x)-T_c(x) \\right)$\n",
    "\n",
    "        3. Berechne $z_c = \\nabla I_c(\\tilde x) e_c$\n",
    "\n",
    "        4. Berechne $Z_c = \\sum_{x}w_c w_d z_c $\n",
    "\n",
    "        5. $Z \\gets Z + Z_c$\n",
    "\n",
    "        6. Berechne: $h_c = \\nabla I_c(\\tilde x) \\nabla I_c(\\tilde x)^T$ \n",
    "\n",
    "        7. $ H_c = \\sum_{x}w_c w_d h_c $\n",
    "\n",
    "        8. $H \\gets H + H_c$ \n",
    "\n",
    "    4. Berechne $H^{-1}$\n",
    "\n",
    "    5. $ \\Delta p = -H^{-1}Z $\n",
    "    \n",
    "    6. $p \\gets \\Delta p + p$\n",
    "\n",
    "\n"
   ]
  },
  {
   "cell_type": "markdown",
   "metadata": {},
   "source": [
    "# Implementierung"
   ]
  },
  {
   "cell_type": "code",
   "execution_count": null,
   "metadata": {},
   "outputs": [],
   "source": [
    "import numpy as np\n",
    "import matplotlib.pyplot as plt"
   ]
  },
  {
   "cell_type": "markdown",
   "metadata": {},
   "source": [
    "## Weights berechnen"
   ]
  },
  {
   "cell_type": "markdown",
   "metadata": {},
   "source": [
    "benutzte Formel: \n",
    "$\n",
    "w_c w_d =  exp \\left( -\\frac{|x_0-x|^2}{2\\delta_d } -\\frac{|T(x_0)-T(x)|^2}{2\\delta_c}\\right)\n",
    "$\n",
    "\n",
    "Schritte:\n",
    "\n",
    "1. $distance = x_0-x$\n",
    "2. $normDistance = |x_0-x|^2$\n",
    "3. $colorDiff = T(x_0)-T(x)$\n",
    "4. $normColor = |T(x_0)-T(x)|^2 = \\sum_c \\left( T_c(x_0)-T_c(x) \\right)^2$\n",
    "5. $exponentDistance = -\\frac{normDistance}{2\\delta_d}$\n",
    "6. $exponentColor = -\\frac{normColor}{2\\delta_c}$\n",
    "6. $weights = exp(exponentDistance+exponentColor)$"
   ]
  },
  {
   "cell_type": "code",
   "execution_count": null,
   "metadata": {},
   "outputs": [],
   "source": [
    "def computeWeights(x1,x2,T_x,delta_c,delta_d,x_0,Tx_0):\n",
    "    #Schritt 1\n",
    "    distanceX1 = x1-x_0[0]\n",
    "    distanceX2 = x2-x_0[1]\n",
    "    #Schritt2\n",
    "    normDistance = distanceX1**2 + distanceX2**2\n",
    "    \n",
    "    normColor = None\n",
    "    cDim = T_x.shape[0]\n",
    "    \n",
    "    for c in range(cDim):\n",
    "        #Schritt 3\n",
    "        colorDiff = T_x[c]-Tx_0[c]\n",
    "        #Schritt 4        \n",
    "        if(normColor is None):\n",
    "            normColor = colorDiff**2\n",
    "        else:\n",
    "            normColor += colorDiff**2\n",
    "    \n",
    "    #Schritt 5\n",
    "    exponentDistance = - normDistance/(2*delta_d)\n",
    "    \n",
    "    #Schritt 6\n",
    "    exponentColor = -normColor/(2*delta_c)\n",
    "    \n",
    "    #Schritt 7\n",
    "    weights = np.exp(exponentColor+exponentDistance)\n",
    "    \n",
    "    return weights\n",
    "    "
   ]
  },
  {
   "cell_type": "markdown",
   "metadata": {},
   "source": [
    "# H berechnen"
   ]
  },
  {
   "cell_type": "markdown",
   "metadata": {},
   "source": [
    "Eigentlich berechnet die Funktion in der Hauptfunktion nur $h_c$\n",
    "Jedoch kann man die Funktion auch für ganz H benutzten, wenn man alle gradients hinzugibt"
   ]
  },
  {
   "cell_type": "markdown",
   "metadata": {},
   "source": [
    "Die benutzte Formel: $H = \\sum_{x} w_c w_d  \\triangledown T(x) {\\triangledown T(x)}^T$"
   ]
  },
  {
   "cell_type": "code",
   "execution_count": null,
   "metadata": {},
   "outputs": [],
   "source": [
    "def compute_h(gradx1,gradx2,weights):\n",
    "    # gradx1 und gradx2 solltem 1D sein\n",
    "    #Schritt f\n",
    "    h = np.array([[gradx1**2,gradx2*gradx1],\n",
    "                  [gradx2*gradx1,gradx2**2]])\n",
    "    #Schritt g\n",
    "    H=h*weights\n",
    "    \n",
    "    return H.sum(axis=2)\n",
    "    "
   ]
  },
  {
   "cell_type": "markdown",
   "metadata": {},
   "source": [
    "# Z berechen"
   ]
  },
  {
   "cell_type": "markdown",
   "metadata": {},
   "source": [
    "Die Benutzen Formeln\n",
    "\n",
    "5.4.b. $e = I(\\tilde{x})-T(x)$\n",
    "\n",
    "5.4.c. $z = {\\triangledown T(x)} e$\n",
    "\n",
    "5.4.d. $Z = \\sum_x w_c w_d z$"
   ]
  },
  {
   "cell_type": "code",
   "execution_count": null,
   "metadata": {},
   "outputs": [],
   "source": [
    "def computeZ(I,T,gradIX1,gradIX2,weigts):\n",
    "    #Schritt b\n",
    "    e = I-T\n",
    "    #Schritt c\n",
    "    gradX1 = gradIX1*e\n",
    "    gradX2 = gradIX2*e\n",
    "    #Schritt d\n",
    "    ZX1 = weights * gradX1\n",
    "    ZX2 = weights * gradX2\n",
    "    \n",
    "    return np.array([ZX1.sum(),ZX2.sum()])    "
   ]
  },
  {
   "cell_type": "markdown",
   "metadata": {},
   "source": [
    "### Hauptfunktion"
   ]
  },
  {
   "cell_type": "code",
   "execution_count": 1,
   "metadata": {},
   "outputs": [],
   "source": [
    "def trackTamplate(I,T,gradI,N_0L,N_0U,x_0,delta_c,delta_d,epsilon,maxIteration):\n",
    "    \"\"\"\n",
    "    I,T sind numpy arrays der Form (color Dimension) des Typen interpolte2d\n",
    "    gradI ist ein numpy array der Form (color Dimension) des Typen interpolte2d\n",
    "    N_0L und N_0U sollen einen Viereck aufspannen. Wobei N_0L der untere (lower) Punkt ist,\n",
    "    und N_0U der Obere (upper)\n",
    "    x_0 ist der betrachtete Mittelpunkt und eine 2D List\n",
    "    delta_c ist eine Zahl, die den Color weight bestimmt\n",
    "    delta_d ist eine Zahl, die den Distance weight bestimmt\n",
    "    epislon Wert ab dem die Schrittweite klein genug ist um abgebrochen zu werden\n",
    "    maxIteration ist die maximale Anzahl der Iteration die der Algorithmus machen darf\n",
    "    \n",
    "    die Interpolate2d Klasse sollte so Funktionieren,\n",
    "    dass f([1,2,3,4],[1,2,3]) die pixel an den Punken:\n",
    "    [\n",
    "    [[1,1],[1,2],[1,3]]\n",
    "    [[2,1],[2,2],[2,3]]\n",
    "    [[3,1],[3,2],[3,3]]\n",
    "    [[4,1],[4,2],[4,3]]\n",
    "    ]\n",
    "    zurück gibt   \n",
    "\n",
    "    \"\"\"\n",
    "    \n",
    "    #Sicherheit\n",
    "    if(len(I)!=len(T) or len(I)!=len(gradT)):\n",
    "        raise Exception(\"I,T,gradT haben unterschiedliche Dimensionen\")\n",
    "    \n",
    "    #Schirtt 1 & 2 \n",
    "    colorDim = len(I)\n",
    "    p = np.array([0,0])\n",
    "    deltap = np.array([epsilon,epislon])\n",
    "\n",
    "    x1Range = np.arange(N_0L[0],N_0U[0])    \n",
    "    x2Range = np.arange(N_0L[1],N_0U[1])\n",
    "    x1Dim = len(x1Range)\n",
    "    x2Dim = len(x2Range)\n",
    "    \n",
    "    iterator = 0\n",
    "    \n",
    "    #Schritt 3\n",
    "    T_x = np.empty(shape=(colorDim,x1Dim,x2Dim),dtype = np.float64)\n",
    "    T_x0 = np.empty(shape=(colorDim),dtype = np.float64)\n",
    "    \n",
    "    for c in range(colorDim):\n",
    "        T_x[c] = T[c](x1Range,x2Range)\n",
    "        T_x0[c] = T[c](x_0[0],x_0[1])\n",
    "        \n",
    "    #Schritt 4\n",
    "    X1,X2 = np.meshgrid(x1Range,x2Range)\n",
    "    weights = computeWeights(X1,X2,T_x,delta_c,delta_d,x_0,T_x0)\n",
    "    weightsForH = weights.flatten()\n",
    "    weightsForH.shape=(xDim*yDim,1,1)\n",
    "    weightsForH = weightsForH[:,[0,0]][:,:,[0,0]]\n",
    "    \n",
    "    \n",
    "    #Schritt 5\n",
    "    while(np.linalg.norm(deltap)>epsilon and iterator<maxIteration):\n",
    "        \n",
    "        #Schritt A\n",
    "        H = np.array([[0,0],[0,0]])\n",
    "        \n",
    "        #Schritt B\n",
    "        Z = np.array([0,0])\n",
    "        \n",
    "        #Schritt C\n",
    "        x1Tilde = x1Range+p[0]\n",
    "        x2Tilde = x2Range+p[1]\n",
    "        \n",
    "        #Schritt D\n",
    "        for c in range(cDim):\n",
    "            #Schritt a\n",
    "            gradIX1 = gradI[c][0](x1Tilde,x2Tilde)\n",
    "            gradIX2 = gradI[c][1](x1Tilde,x2Tilde)\n",
    "            \n",
    "            #Schritt b - d\n",
    "            I_x = I[c](x1Tilde,x2Tilde)\n",
    "            Z_c = computeZ(I_x,T_x[c],gradIX1,gradIX2,weights)\n",
    "            \n",
    "            #Schritt e\n",
    "            Z+=Z_c\n",
    "            \n",
    "            #Schritt f-g\n",
    "            H_c = computeH(gradIX1.flatten(),gradIX2.flatten(),weightsForH)\n",
    "            \n",
    "            #Schritt h\n",
    "            H+=H_c\n",
    "            \n",
    "        #Schritt E\n",
    "        Hinv = np.linalg.inv(H)\n",
    "        \n",
    "        #Schritt F\n",
    "        deltap = -Hinv.dot(Z)\n",
    "        \n",
    "        #Schritt G\n",
    "        p +=deltap\n",
    "        \n",
    "        iterator+=1\n",
    "        \n",
    "return p\n",
    "            \n",
    "        \n",
    "    "
   ]
  }
 ],
 "metadata": {
  "kernelspec": {
   "display_name": "Python 3",
   "language": "python",
   "name": "python3"
  },
  "language_info": {
   "codemirror_mode": {
    "name": "ipython",
    "version": 3
   },
   "file_extension": ".py",
   "mimetype": "text/x-python",
   "name": "python",
   "nbconvert_exporter": "python",
   "pygments_lexer": "ipython3",
   "version": "3.5.3"
  }
 },
 "nbformat": 4,
 "nbformat_minor": 2
}