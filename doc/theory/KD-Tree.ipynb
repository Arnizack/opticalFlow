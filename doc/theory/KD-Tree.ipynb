{
 "cells": [
  {
   "cell_type": "markdown",
   "metadata": {},
   "source": [
    "# Gaussian KD-Tree"
   ]
  },
  {
   "cell_type": "markdown",
   "metadata": {},
   "source": [
    "### Quelle: http://graphics.stanford.edu/papers/gkdtrees/gkdtrees.pdf"
   ]
  },
  {
   "cell_type": "markdown",
   "metadata": {},
   "source": [
    "## Variabeln:\n",
    "\n",
    "$n$ Anzahl der zu verarbeiten Werte\n",
    "\n",
    "$d$ Dimension des VR (=5)\n",
    "\n",
    "$v_i$ Wert eines Pixels an einer Stelle\n",
    "\n",
    "$p_i$ Position eines Pixels (siehe 2.5)\n",
    "\n",
    "$c_i$ Farbe eines Pixels\n",
    "\n",
    "$\\delta$ Standardabweichung (Standardmäßig = 1)\n",
    "\n",
    "$s$ Anzahl der Sample (Stichproben)\n",
    "\n",
    "$\\delta_{s}$ größe des Gaussian Kernels"
   ]
  },
  {
   "cell_type": "markdown",
   "metadata": {},
   "source": [
    "## Mathe:\n",
    "\n",
    "\n",
    "***(1) Allgemeine Formel (linear Kombination des Wertes):***\n",
    "\n",
    "$$\\hat v_i = \\sum^{n}_{j=1} \\lambda_{ij} v_i$$\n",
    "\n",
    "***(2) bilateraler Filter ausgedrückt:***\n",
    "$$\\hat v_i = \\sum^{n}_{j=1} e^{\\frac{-|p_i-p_j|^2}{2 \\delta^2_p}} e^{\\frac{-|c_i - c_j|^2}{2 \\delta_c^2}} v_i$$\n",
    "***(2.5) vereinfachen durch das einschließen der Farbe in $p_i$ als 5d VR (x, y, r, g, b) und  $\\delta_p$ Standardwert als 1 wählen:***\n",
    "$$\\hat v_i = \\sum^{n}_{j=1} e^{\\frac{-|p_i-p_j|^2}{2}} v_i$$\n",
    "\n",
    "***Beschleunigungen der Berechnung:***\n",
    "* $|p_i-p_j| > 3 * standardabweichung$ $\\delta$ wird ignoriert\n",
    "* KD-Tree speicher Struktur\n",
    "* wählen von weniger Werten als $n$ für den KD_Tree\n",
    "* down- und absampleing"
   ]
  },
  {
   "cell_type": "markdown",
   "metadata": {},
   "source": [
    "## KD-Tree\n",
    "\n",
    "### Node-Inhalt \n",
    "\n",
    "* $\\eta_{d}$ Dimension die der Node beschneidet\n",
    "* $\\eta_{cut}$ Wert an dem die Dimension beschnitten wird\n",
    "* $\\eta_{left}$, $\\eta_{right}$ beiden folgende Nodes\n",
    "* $\\eta_{min}$, $\\eta_{max}$ beschränkung der Bounding-Box (berechnet durch die vorherigen Nodes)\n",
    "\n",
    "  $\\eta_{max} =$ min(aller $\\eta_{cut}$ der Vorfahren mit selber Dimension, aber größerem Wert)\n",
    "  \n",
    "  $\\eta_{min} =$ max(aller $\\eta_{cut}$ der Vorfahren mit selber Dimension, aber kleinerem Wert)\n",
    "\n",
    "### LeafNode-tinhalt\n",
    "* $p_i$ Position in d Dimension\n",
    "\n",
    "### Konstruktion\n",
    "\n",
    "Ausgehend vom 5d VR (x, y, r, g, b) wird von einem Punkt gestartet und dann nahe liegennde Werte gewählt, damit jedes Blat max. $\\delta_{s}/2$ entfernt ist.\n",
    "1. Zu $p_i$ wird die Bounding Box aller Werte berechnet, wenn die Diagonal < als $\\delta_{s}$ ist:\n",
    "    * dann wird ein LeafNode erstellt und der Mittelpunkt der Bounding Box gespeichert (Median geht auch, ist aber laut Quelle gleichschnell)\n",
    "    * sonst wird die Längste Seite und die Eingabelist halbiert und rekursiv fortgesetz (neue Nodes ab 1)\n",
    "\n",
    "### Finden eines Werts\n",
    "\n",
    "#### Input:\n",
    "* $q$ Position (x, y, r, g, b)\n",
    "* $\\delta$ Standard-Abweichung\n",
    "* $s$ Anzahl an Samples\n",
    "\n",
    "#### Output:\n",
    "* list an $s$ Position $p_{i}$ mit der entsprechenden Gewichtung $w_{i}$\n",
    "\n",
    "***dabei ist jeder Wert gleich Wahrscheinlich getroffen zu werden, wenn mehr als $s$ möglich sind***\n",
    "\n",
    "#### Berechnung:\n",
    "CDF-Funktion = Normalverteilung\n",
    "\n",
    "$$cdf(x) = \\frac{1}{\\sqrt{2\\pi}} \\int_\\infty^x \\mathrm{e}^{-\\frac{x^2}{2}}\\,\\mathrm{d}x$$\n",
    "\n",
    "1. \n",
    "erwartete Anzahl an Linken Position:\n",
    "$$left_{temp} = \\frac{cdf(\\eta_{cut} - q) - cdf(\\eta_{min} - q)}{cdf(\\eta_{max} - q) - cdf(\\eta_{min} - q)} * s $$\n",
    "$$left = \\lfloor left_{temp} \\rfloor$$\n",
    "\n",
    "erwartete Anzahl an rechten Position:\n",
    "$$right = \\lfloor s - left_{temp} \\rfloor$$\n",
    "\n",
    "2.\n",
    "Falls $sample$ $>$ $left$ $+$ $right$, dann wird zufällig entweder $left$ der $right$ um 1 erhöht (Rundungsfehler ausgleichen)\n",
    "\n",
    "3.\n",
    "Wenn eins $\\ne 0$ dann dort bei dem Node wieder holen, bis ein LeafNode erreicht ist\n",
    "\n",
    "4.\n",
    "Beim LeafNode:\n",
    "Position zurückgebn und\n",
    "\n",
    "$$w_{i} = e^{\\frac{-|q-p_i|^2}{2\\delta}} (< 3 * \\delta)$$"
   ]
  },
  {
   "cell_type": "markdown",
   "metadata": {},
   "source": [
    "## GPU Implementation\n",
    "\n",
    "Der KD_Tree muss auf der CPU gebaut werden\n",
    "Danach ist die Query Methode auf die GPU implementierbar, weil die Daten gleichbleiben\n",
    "\n",
    "### Probleme:\n",
    "1. Die Implementation des KD-Tree auf der GPU ist schwierig, weil es keine Rekursion gibt\n",
    "2. Die Query Methode muss iterativ implementiert werden, weil die Cuda keinen Call Stack hat.\n",
    "3. Die GPU kann nicht genug Speicherplatz haben\n",
    "\n",
    "### Lösungen:\n",
    "1. Die CPU übernimmt Anfangs die groben Schritte rekursiv mit GPU unterstützung beim bauen der Bounding Boxen. Wenn genügend Berechnungen gebraucht werden, dann wird der Ebenen nach der Baum gebeaut. Dabei übernimmt jeder Kernel (thread blocks) einen Build-Job. Dieser besteht aus einem Pointer zum Vorfahren und einem Array an Positionen $p_i$. Am Ende wird der Baum von unten nach oben durchlaufen um $n_{max}$ und $n_{min}$ zu berechnen\n",
    "\n",
    "2. Die Query methode lässt sich iterativ auf der GPU implementieren, in dem man übergabe Argument in gemeinsamen Speicher von CPU und GPU speichert. Wenn ein normaler Node getroffen wird, dann geht der Thread den Baum runter und gibt den die andere hälfte (wenn gebraucht) in eine gemeinsame ***pending Work-Structur***. Wenn ein LeafNode ereicht wird, dann wird mit atomaren floating Points auf ihn zugegriffen\n",
    "\n",
    "3. Man kann den KD-Tree aufteilen und jedes Stück einzeln bearbeiten oder Stochastisch den Baum abspeichern, das Problem kann dann aber trotzdem auftreten"
   ]
  }
 ],
 "metadata": {
  "kernelspec": {
   "display_name": "Python 3",
   "language": "python",
   "name": "python3"
  },
  "language_info": {
   "codemirror_mode": {
    "name": "ipython",
    "version": 3
   },
   "file_extension": ".py",
   "mimetype": "text/x-python",
   "name": "python",
   "nbconvert_exporter": "python",
   "pygments_lexer": "ipython3",
   "version": "3.5.3"
  }
 },
 "nbformat": 4,
 "nbformat_minor": 4
}
