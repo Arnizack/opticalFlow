{
 "cells": [
  {
   "cell_type": "markdown",
   "metadata": {},
   "source": [
    "## Algorithmus Zusammenfassung"
   ]
  },
  {
   "cell_type": "markdown",
   "metadata": {},
   "source": [
    "## Variablen\n",
    "### Allgemein\n",
    "- $F_{prior}$ *frame_prior* \n",
    "- $F_{next}$*frame_next*\n",
    "- $\\delta_d$ *delta_distance*\n",
    "- $\\delta_c$ *delta_color* \n",
    "- $\\delta_s$ *delta_scale_accuracy* Die Genauigkeit für die Bounding Boxes\n",
    "- $X$ *pixels* Menge an Pixeln\n",
    "- $x\\in X$ *position_pixel*\n",
    "- $v_x$ *value_pixel*\n",
    "- $O$ *occlusion_map*\n",
    "- $o_x$ *is_occluded_pixel*\n",
    "- $\\epsilon_o$ *occlusion_condition*\n",
    "- $C$ *color_channels* Menge der FarbKanäle\n",
    "- $c \\in C$ *color_channel* FarbKanal (Int)\n",
    "- $F$ *flow_field*\n",
    "- $f \\in F$ *flow_vector*\n",
    "- $\\epsilon_{conv}$ *convergence_condition*\n",
    "- $IR$ *irregularity_map*\n",
    "- $ir_x \\in IR$ *irregularity_pixel*\n",
    "- $\\epsilon_{ir}$ *irregular_condition*\n",
    "- $R$ *reliable_map*\n",
    "- $w_{r,x}\\in R$ *reliability_pixel*\n",
    "\n"
   ]
  },
  {
   "cell_type": "markdown",
   "metadata": {},
   "source": [
    "## Überblick Ablauf"
   ]
  },
  {
   "cell_type": "markdown",
   "metadata": {},
   "source": [
    "1. Einlesen *frame_prior* und *frame_next*\n",
    "2. DownSamplen *frame_next* und *frame_prior*\n",
    "4. Iteriere Solange bis Anfangsauflösung von *frame_prior* und *frame_next* erreicht ist\n",
    "    1. *flow_field_forward* von *frame_prior* zu *frame_next* ausrechnen\n",
    "    2. *flow_field_backwards* von *frame_next* zu *frame_prior* ausrechnen\n",
    "    3. *occlusion_map* berechnen mit *flow_field_forward* und *flow_field_backwards*\n",
    "    4. *reliable_map* berechnen\n",
    "    5. *flow_field_forward* filtern mit bilateral Filter, der die Weights $w_d$, $w_c$, $w_r$ benutzt also 6D \n",
    "    6. upsampling von *flow_field_forward* \n",
    "    7. *irregularity_map* berechnen\n",
    "    8. *pixels* die pixel zu weisen, dessen *irregularity_value* über *irregular_condition* ist\n",
    "    9. *pixels* hinzufügen die an den Rändern der irregularity\n",
    "    "
   ]
  },
  {
   "cell_type": "markdown",
   "metadata": {},
   "source": [
    "## Classes/Module\n",
    "\n",
    "### 1. FrameLoader\n",
    "\n",
    "$F_{prior}$ GetPriorFrame()\n",
    "$F_{next}$ GetNextFrame()\n",
    "\n",
    "### 2. ImagePyramid\n",
    "\n",
    "$F_{prior}$/$F_{next}$ getFrame()\n",
    "\n",
    "$\\nabla F_1$ getGradient1($X$)\n",
    "\n",
    "$\\nabla F_2$ getGradient2($X$)\n",
    "\n",
    "void increaseLevel(); \n",
    "\n",
    "### 3. FlowPyramid\n",
    "\n",
    "$F$ getNextLevel($F$,$F_{prior}$/$F_{next}$)\n",
    "\n",
    "### 4. KD-Tree\n",
    "BulidStructur* buildTree()\n",
    "\n",
    "__device__ queryTree(BuildStructur*, sampleCount, standardDeviation)\n",
    "\n",
    "### 5. OpticalFlowCalculator\n"
   ]
  }
 ],
 "metadata": {
  "kernelspec": {
   "display_name": "Python 3",
   "language": "python",
   "name": "python3"
  },
  "language_info": {
   "codemirror_mode": {
    "name": "ipython",
    "version": 3
   },
   "file_extension": ".py",
   "mimetype": "text/x-python",
   "name": "python",
   "nbconvert_exporter": "python",
   "pygments_lexer": "ipython3",
   "version": "3.5.3"
  }
 },
 "nbformat": 4,
 "nbformat_minor": 4
}
