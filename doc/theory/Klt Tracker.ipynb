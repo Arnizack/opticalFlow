{
 "cells": [
  {
   "cell_type": "markdown",
   "metadata": {},
   "source": [
    "# KLT Tracker Python"
   ]
  },
  {
   "cell_type": "markdown",
   "metadata": {},
   "source": [
    "## Theorie"
   ]
  },
  {
   "cell_type": "markdown",
   "metadata": {},
   "source": [
    "### Variablen"
   ]
  },
  {
   "cell_type": "markdown",
   "metadata": {},
   "source": [
    "- $T$ für Template, Das Tamplate versucht der Tracker zu Matchen\n",
    "- $I$ für Image, ist das Bild in dem das Template T gesucht wird\n",
    "- $N_0$ ist die Menge aller Pixel im Tamplate\n",
    "- $x \\in N_0$ ist die Zählvariable, die die Pixel durchläuft \n",
    "- $p$ ist die aktuelle Verschiebung von der Ursprünglichen position des Templates\n",
    "- $\\Delta p$ ist die Differenz zwischen dem nächsten p und dem aktuellem p\n",
    "- $c$ für color, ist die Laufvariable, die die Frabkanäle druchläuft"
   ]
  },
  {
   "cell_type": "markdown",
   "metadata": {},
   "source": [
    "### Ziel:"
   ]
  },
  {
   "cell_type": "markdown",
   "metadata": {},
   "source": [
    "Minimierung der folgenden Funktion: $E_o$\n",
    "\n",
    "\\begin{equation}\n",
    "E_o(\\Delta p)=\\sum_{x} |I(x+p+\\Delta p)-T(x)|^2\n",
    "\\end{equation}\n",
    "\n"
   ]
  },
  {
   "cell_type": "markdown",
   "metadata": {},
   "source": [
    "Umformulieren des Problems, damit der Tracking Algorithmus effizenter ist:\n",
    "\n",
    "\n",
    "\\begin{equation}\n",
    "E(\\Delta p)=\\sum_{x} |I(x+p)-T(x-\\Delta p)|^2\n",
    "\\end{equation}"
   ]
  },
  {
   "cell_type": "markdown",
   "metadata": {},
   "source": [
    "#### Umgangssprachliche Beschreibung des Problems:\n",
    "\n",
    "$E_o$:\n",
    "    \n",
    "    Um wie viel muss ich das Bild verschieben, so dass das Template passt\n",
    "\n",
    "$E$:\n",
    "       \n",
    "     Um wie viel muss ich das Template zurück schieben, damit es auf das Bild passt\n",
    "    \n"
   ]
  },
  {
   "cell_type": "markdown",
   "metadata": {},
   "source": [
    "### Umstellen nach $\\Delta p$"
   ]
  },
  {
   "cell_type": "markdown",
   "metadata": {},
   "source": [
    "\n",
    "\\begin{equation}\n",
    "E(\\Delta p)=\\sum_{x} |I(x+p)-T(x-\\Delta p)|^2\n",
    "= \\sum_{x} \\sum_{c} |I(x+p)_c-T(x-\\Delta p)_c | ^2\n",
    "\\end{equation}\n",
    "\\begin{equation}\n",
    "\\stackrel{Taylor}{\\approx} \\sum_{x} \\sum_{c} |I(x+p)_c-T(x)_c -{\\triangledown T(x)_c}^T(-\\Delta p) | ^2\n",
    "\\end{equation}\n",
    "\n",
    "\\begin{equation}\n",
    "= \\sum_{x} \\sum_{c} |{\\triangledown T(x)_c}^T(\\Delta p)+I(x+p)_c-T(x)_c  | ^2\n",
    "\\end{equation}\n",
    "\n",
    "\n",
    "Ableiten: \n",
    "\n",
    "\\begin{equation}\n",
    "2 \\sum_{x} \\sum_{c} {\\triangledown T(x)_c} [ {\\triangledown T(x)_c}^T(\\Delta p)+I(x+p)_c-T(x)_c  ]\n",
    "\\end{equation}\n",
    "\n",
    "Damit die Summe mininimal ist: \n",
    "\\begin{equation}\n",
    "2 \\sum_{x} \\sum_{c} {\\triangledown T(x)_c} [ {\\triangledown T(x)_c}^T(\\Delta p)+I(x+p)_c-T(x)_c  ] = 0\n",
    "\\end{equation}\n",
    "\n",
    "\\begin{equation}\n",
    "\\implies \\sum_{x} \\sum_{c} {\\triangledown T(x)_c} {\\triangledown T(x)_c}^T(\\Delta p)\n",
    "= - \\sum_{x} \\sum_{c} {\\triangledown T(x)_c} [I(x+p)_c-T(x)_c]\n",
    "\\end{equation}\n",
    "\n",
    "Definiere H als:\n",
    "\\begin{equation}\n",
    "H := \\sum_{c} \\sum_{x}  {\\triangledown T(x)_c} {\\triangledown T(x)_c}^T\n",
    "\\end{equation}\n",
    "Also ist $\\Delta p$ :\n",
    "\\begin{equation}\n",
    "\\Delta p = - H^{-1}\\sum_{x} \\sum_{c} {\\triangledown T(x)_c} [I(x+p)_c-T(x)_c]\n",
    "\\end{equation}\n",
    "\n",
    "Update von $\\Delta p$ ist also:\n",
    "\\begin{equation}\n",
    "p \\gets \\Delta p +p \n",
    "\\end{equation}\n"
   ]
  },
  {
   "cell_type": "markdown",
   "metadata": {},
   "source": [
    "# Algorithmus"
   ]
  },
  {
   "cell_type": "markdown",
   "metadata": {},
   "source": [
    "Input: $N_0$, $T$, $I$, $\\triangledown T$, $\\epsilon$\n",
    "\n",
    "Output: $p$\n",
    "\n",
    "\n",
    "1.  $H \\gets \\begin{bmatrix}\n",
    "       0 & 0\\\\\n",
    "       0 & 0\n",
    "     \\end{bmatrix}$ \n",
    "      \n",
    "\n",
    "2. Iteriere c:\n",
    "    1. $\\triangledown T_c$ bekommen\n",
    "    2. $H_c = \\sum_{x}  {\\triangledown T(x)_c} {\\triangledown T(x)_c}^T$\n",
    "    3. $H \\gets H+H_c$\n",
    "3. $H^{-1}$ berechnen  \n",
    "\n",
    "Solange $|\\Delta p|> \\epsilon$\n",
    "\n",
    "4. $\\tilde{x} = x+p$\n",
    "\n",
    "5. $ Z \\gets \\begin{bmatrix}\n",
    "       0 \\\\\n",
    "       0 \n",
    "     \\end{bmatrix}$\n",
    "6. Iteriere c:\n",
    "    1. $e_{c,x} = I(\\tilde{x})_c-T(x)_c$\n",
    "    2. $Z_c = \\sum_{x} {\\triangledown T(x)_c} e_{c,x}$\n",
    "    3. $Z \\gets Z +Z_c$\n",
    "    \n",
    "\n",
    "\n",
    "7. $\\Delta p = -H^{-1}Z$\n",
    "8. $p \\gets p + \\Delta p$"
   ]
  },
  {
   "cell_type": "markdown",
   "metadata": {},
   "source": [
    "# Implementierung"
   ]
  },
  {
   "cell_type": "code",
   "execution_count": null,
   "metadata": {},
   "outputs": [],
   "source": [
    "import numpy as np\n",
    "import matplotlib.pyplot as plt"
   ]
  },
  {
   "cell_type": "markdown",
   "metadata": {},
   "source": [
    "# H berechnen"
   ]
  },
  {
   "cell_type": "markdown",
   "metadata": {},
   "source": [
    "Eigentlich berechnet die Funktion in der Hauptfunktion nur $H_c$\n",
    "Jedoch kann man die Funktion auch für ganz H benutzten, wenn man alle gradients hinzugibt"
   ]
  },
  {
   "cell_type": "markdown",
   "metadata": {},
   "source": [
    "Die benutzte Formel: $H = \\sum_{x} \\triangledown T(x) {\\triangledown T(x)}^T$"
   ]
  },
  {
   "cell_type": "code",
   "execution_count": null,
   "metadata": {},
   "outputs": [],
   "source": [
    "def computeH(gradx1,gradx2):\n",
    "    gradx1 = gradx1.flatten()\n",
    "    gradx2 = gradx2.flatten()\n",
    "    \n",
    "    H = np.array([[gradx1**2,gradx2*gradx1],\n",
    "                  [gradx2*gradx1,gradx2**2]])\n",
    "    \n",
    "    H = H.sum(axis=2)\n",
    "    return H\n",
    "    "
   ]
  },
  {
   "cell_type": "markdown",
   "metadata": {},
   "source": [
    "# Z berechen"
   ]
  },
  {
   "cell_type": "markdown",
   "metadata": {},
   "source": [
    "Die Benutzen Formeln\n",
    "1. $e = I(\\tilde{x})-T(x)$\n",
    "2. $Z = \\sum_{x} {\\triangledown T(x)} e$"
   ]
  },
  {
   "cell_type": "code",
   "execution_count": null,
   "metadata": {},
   "outputs": [],
   "source": [
    "def computeZ(I,T,gradTX1,gradTX2):\n",
    "    #Schritt 1\n",
    "    e = I-T\n",
    "    #Schritt 2\n",
    "    gradX1 = gradTX1*e\n",
    "    gradX2 = gradTX2*e\n",
    "    \n",
    "    return np.array([gradX1.sum(),gradX2.sum()])    "
   ]
  },
  {
   "cell_type": "markdown",
   "metadata": {},
   "source": [
    "### Hauptfunktion"
   ]
  },
  {
   "cell_type": "code",
   "execution_count": null,
   "metadata": {},
   "outputs": [],
   "source": [
    "def trackTamplate(I,T,gradT,N_0L,N_0U,epsilon,maxIteration):\n",
    "    \"\"\"\n",
    "    I,T sind numpy arrays der Form (color Dimension) des Typen interpolte2d\n",
    "    gradT ist ein numpy array der Form (color Dimension) des Typen interpolte2d\n",
    "    N_0L und N_0U sollen einen Viereck aufspannen. Wobei N_0L der untere (lower) Punkt ist,\n",
    "    und N_0U der Obere (upper)\n",
    "    epislon Wert ab dem die Schrittweite klein genug ist um abgebrochen zu werden\n",
    "    maxIteration ist die maximale Anzahl der Iteration die der Algorithmus machen darf\n",
    "    \n",
    "    die Interpolate2d Klasse sollte so Funktionieren,\n",
    "    dass f([1,2,3,4],[1,2,3]) die pixel an den Punken:\n",
    "    [\n",
    "    [[1,1],[1,2],[1,3]]\n",
    "    [[2,1],[2,2],[2,3]]\n",
    "    [[3,1],[3,2],[3,3]]\n",
    "    [[4,1],[4,2],[4,3]]\n",
    "    ]\n",
    "    zurück gibt   \n",
    "\n",
    "    \"\"\"\n",
    "    \n",
    "    #Sicherheit\n",
    "    if(len(I)!=len(T) or len(I)!=len(gradT)):\n",
    "        raise Exception(\"I,T,gradT haben unterschiedliche Dimensionen\")\n",
    "    \n",
    "\n",
    "\n",
    "    #Schritt 1:\n",
    "    colorRange = len(I)\n",
    "    p = np.array([0,0])\n",
    "    deltap = np.array([100,0])\n",
    "    #Man braucht nicht immer durch x durchloop aufgrund von Numpy\n",
    "\n",
    "    x1Range = np.arange(N_0L[0],N_0U[0])    \n",
    "    x2Range = np.arange(N_0L[1],N_0U[1])\n",
    "\n",
    "    H = np.array([[0,0],[0,0]],dtype=np.float64)\n",
    "    T_x = np.empty(shape =(colorRange,len(x1Range),len(x2Range)))\n",
    "    gradT_x = np.empty(shape =(colorRange,2,len(x1Range),len(x2Range)))\n",
    "\n",
    "    iterator = 0\n",
    "    \n",
    "    \n",
    "    #Schritt 2\n",
    "    \n",
    "    for c in range(colorRange):\n",
    "        T_x[c] = T[c](x1Range,x2Range)\n",
    "        #Schritt 2.A\n",
    "        gradTx1 = gradT[c][0](x1Range,x2Range)\n",
    "        gradTx2 = gradT[c][1](x1Range,x2Range)\n",
    "        gradT_x[c] = [gradTx1,gradTx2]\n",
    "        #Schritt 2.B\n",
    "        H_c = computeH(gradTx1,gradTx2)\n",
    "        #Schritt 2.C\n",
    "        H += H_c\n",
    "    \n",
    "    #Schritt 3\n",
    "    Hinv = np.linalg.inv(H)    \n",
    "    \n",
    "    while(np.linalg.norm(deltap)>epsilon and iterator<maxIteration):\n",
    "    \n",
    "        #Schritt 4:\n",
    "        x1tildeRange = x1Range+p[0]\n",
    "        x2tildeRange = x2Range+p[1]\n",
    "        \n",
    "        #Schritt 5:\n",
    "        Z=np.array([0,0],dtype=np.float64)\n",
    "        \n",
    "        #Schritt 6:\n",
    "        for c in range(colorRange):\n",
    "            #Schritt A & B\n",
    "            Ixtilde_c = I[c](x1tildeRange,x2tildeRange)\n",
    "            T_c = T_x[c]\n",
    "            gradTx1_c = gradT_x[c][0]\n",
    "            gradTx2_c = gradT_x[c][1]\n",
    "            Z_c = computeZ(Ixtilde_c,T_c,gradTx1_c,gradTx2_c)\n",
    "            #Schritt C\n",
    "            Z += Z_c\n",
    "        \n",
    "        #Schritt 7:\n",
    "        deltap = -Hinv.dot(Z)\n",
    "\n",
    "        #Schritt 8:\n",
    "        p = p + deltap\n",
    "        \n",
    "        #Iterator erhöhen\n",
    "        iterator += 1\n",
    "        \n",
    "    return p "
   ]
  }
 ],
 "metadata": {
  "kernelspec": {
   "display_name": "Python 3",
   "language": "python",
   "name": "python3"
  },
  "language_info": {
   "codemirror_mode": {
    "name": "ipython",
    "version": 3
   },
   "file_extension": ".py",
   "mimetype": "text/x-python",
   "name": "python",
   "nbconvert_exporter": "python",
   "pygments_lexer": "ipython3",
   "version": "3.5.3"
  }
 },
 "nbformat": 4,
 "nbformat_minor": 2
}
