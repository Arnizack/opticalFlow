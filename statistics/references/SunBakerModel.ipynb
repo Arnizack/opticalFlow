{
 "cells": [
  {
   "cell_type": "markdown",
   "metadata": {},
   "source": [
    "# Sun Baker Modell"
   ]
  },
  {
   "cell_type": "markdown",
   "metadata": {},
   "source": [
    "## Theorie\n",
    "- $u$ x Direction Flow Vectors\n",
    "- $v$ y Direction Flow Vectors\n",
    "- $p_D$ direct penalty function\n",
    "- $p_S$ spatial penaltay function\n",
    "- $N_{ij}$ Neighborhood of i,j\n",
    "\n",
    "$$E(u,v)=\\sum_{i,j} \n",
    "\\left\\{ \n",
    "    p_D(I_1(i,j)-I_2(i+u_{ij},j+v_{i,j})) \n",
    "    + \n",
    "    \\lambda \n",
    "        \\left(\n",
    "            p_S\\left(\\frac{\\delta u_{ij}}{\\delta i}\\right) \n",
    "            +\n",
    "            p_S\\left(\\frac{\\delta v_{ij}}{\\delta j}\\right)\n",
    "        \\right)\n",
    "    +\n",
    "    \\lambda_N\n",
    "    \\sum_{(i',j') \\in N_{i,j}} \n",
    "        \\left(\n",
    "            | u_{i,j}-u_{i',j'}| +\n",
    "            | v_(i,j)-v_{i',j'}|\n",
    "        \\right)\n",
    "\\right\\}\n",
    "$$"
   ]
  },
  {
   "cell_type": "code",
   "execution_count": 2,
   "metadata": {},
   "outputs": [
    {
     "name": "stdout",
     "output_type": "stream",
     "text": [
      "Collecting opencv-python\n",
      "  Using cached https://files.pythonhosted.org/packages/1b/2d/62eba161d3d713e1720504de1c25d439b02c85159804d9ecead10be5d87e/opencv_python-4.4.0.46-cp37-cp37m-manylinux2014_x86_64.whl\n",
      "Requirement already satisfied: numpy>=1.14.5 in /opt/conda/lib/python3.7/site-packages (from opencv-python) (1.17.3)\n",
      "Installing collected packages: opencv-python\n",
      "Successfully installed opencv-python-4.4.0.46\n"
     ]
    }
   ],
   "source": [
    "# Installation des pycoSHARKs\n",
    "import sys\n",
    "!{sys.executable} -m pip install opencv-python"
   ]
  },
  {
   "cell_type": "code",
   "execution_count": 10,
   "metadata": {},
   "outputs": [],
   "source": [
    "import numpy as np\n",
    "from scipy import interpolate\n",
    "import numpy as np\n",
    "import cv2\n",
    "from ..utilities import warp_grid\n",
    "import math"
   ]
  },
  {
   "cell_type": "code",
   "execution_count": 8,
   "metadata": {},
   "outputs": [],
   "source": [
    "def shift_array(array,x,y):\n",
    "    array = np.roll(array,y,axis=0)\n",
    "    array = np.roll(array,x,axis=1)\n",
    "    #zero padding\n",
    "    if(y < 0):\n",
    "        array[y:len(array.shape[0])] = 0\n",
    "    else:\n",
    "        array[0:y] = 0\n",
    "    \n",
    "    if(x < 0):\n",
    "        array[:,x:len(array.shape[1])] = 0\n",
    "    else:\n",
    "        array[:,0:x] = 0\n",
    "    \n",
    "    return array\n",
    "    "
   ]
  },
  {
   "cell_type": "code",
   "execution_count": 14,
   "metadata": {},
   "outputs": [],
   "source": [
    "def sun_baker_error_function(image_first, image_second,flow, lambda_derivative, lambda_flow, penalty_direct, \n",
    "                             penalty_spatial, derivative_x_func,derivative_y_func, neighboor_size):\n",
    "    flow_x = flow[1]\n",
    "    flow_y = flow[0]\n",
    "    image_second_warped = warp_grid.warp_matrix(image_second,flow)\n",
    "    error = penalty_direct(image_first-image_second_warped)\n",
    "    error += lambda_derivative * (penalty_spatial(derivative_x_func(flow_x))+penalty_spatial(derivative_y_func(flow_y)))\n",
    "    \n",
    "    neighboorhood = range(-math.floor(neighboor_size/2),math.ceil(neighboor_size/2))\n",
    "    \n",
    "    abs_error = np.zeros(shape=error.shape)\n",
    "    \n",
    "    for y in neighboorhood:\n",
    "        for x in neighboorhood:\n",
    "            shifted_flow_x = shift_array(flow_x,x,y)\n",
    "            shifted_flow_y = shift_array(flow_y,x,y)\n",
    "            abs_error += np.abs(flow_x-shifted_flow_x)\n",
    "            abs_error += np.abs(flow_y-shifted_flow_y)\n",
    "            \n",
    "    return error + lambda_flow * abs_error"
   ]
  },
  {
   "cell_type": "code",
   "execution_count": 16,
   "metadata": {},
   "outputs": [],
   "source": [
    "def penalty_squard(x):\n",
    "    return x*x\n",
    "\n",
    "def penalty_charbonnier(x):\n",
    "    epsilon = 0.001\n",
    "    a = 0.45\n",
    "    return (x*x + epsilon*epsilon)**a"
   ]
  }
 ],
 "metadata": {
  "kernelspec": {
   "display_name": "Python 3",
   "language": "python",
   "name": "python3"
  },
  "language_info": {
   "codemirror_mode": {
    "name": "ipython",
    "version": 3
   },
   "file_extension": ".py",
   "mimetype": "text/x-python",
   "name": "python",
   "nbconvert_exporter": "python",
   "pygments_lexer": "ipython3",
   "version": "3.7.3"
  }
 },
 "nbformat": 4,
 "nbformat_minor": 4
}